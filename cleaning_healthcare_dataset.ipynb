{
 "cells": [
  {
   "cell_type": "code",
   "execution_count": 2,
   "id": "a3e3a3e2-0f91-4a83-96b4-278f047998fe",
   "metadata": {},
   "outputs": [],
   "source": [
    "import numpy as np\n",
    "import matplotlib.pyplot as plt\n",
    "import seaborn as sns\n",
    "import pandas as pd"
   ]
  },
  {
   "cell_type": "code",
   "execution_count": 3,
   "id": "b67381c0-5b5f-4a44-9cce-d5156cb1871f",
   "metadata": {},
   "outputs": [
    {
     "data": {
      "text/html": [
       "<div>\n",
       "<style scoped>\n",
       "    .dataframe tbody tr th:only-of-type {\n",
       "        vertical-align: middle;\n",
       "    }\n",
       "\n",
       "    .dataframe tbody tr th {\n",
       "        vertical-align: top;\n",
       "    }\n",
       "\n",
       "    .dataframe thead th {\n",
       "        text-align: right;\n",
       "    }\n",
       "</style>\n",
       "<table border=\"1\" class=\"dataframe\">\n",
       "  <thead>\n",
       "    <tr style=\"text-align: right;\">\n",
       "      <th></th>\n",
       "      <th>ID</th>\n",
       "      <th>Name</th>\n",
       "      <th>Age</th>\n",
       "      <th>Gender</th>\n",
       "      <th>City</th>\n",
       "      <th>Blood Type</th>\n",
       "      <th>Education</th>\n",
       "      <th>Employment Status</th>\n",
       "      <th>Salary</th>\n",
       "      <th>Health Condition</th>\n",
       "      <th>Credit Score</th>\n",
       "      <th>Date of Admission</th>\n",
       "    </tr>\n",
       "  </thead>\n",
       "  <tbody>\n",
       "    <tr>\n",
       "      <th>0</th>\n",
       "      <td>6812</td>\n",
       "      <td>Bobby JacksOn</td>\n",
       "      <td>78</td>\n",
       "      <td>M</td>\n",
       "      <td>Albuquerque</td>\n",
       "      <td>B-</td>\n",
       "      <td>Bachelor</td>\n",
       "      <td>Employed</td>\n",
       "      <td>$80,000</td>\n",
       "      <td>Good</td>\n",
       "      <td>720</td>\n",
       "      <td>Wednesday, January 31, 2024</td>\n",
       "    </tr>\n",
       "    <tr>\n",
       "      <th>1</th>\n",
       "      <td>9043</td>\n",
       "      <td>LesLie TErRy</td>\n",
       "      <td>17</td>\n",
       "      <td>F</td>\n",
       "      <td>Albuque</td>\n",
       "      <td>A+</td>\n",
       "      <td>Associate</td>\n",
       "      <td>Unemployed</td>\n",
       "      <td>$0</td>\n",
       "      <td>Excellent</td>\n",
       "      <td>NaN</td>\n",
       "      <td>Tuesday, August 20, 2019</td>\n",
       "    </tr>\n",
       "    <tr>\n",
       "      <th>2</th>\n",
       "      <td>1495</td>\n",
       "      <td>DaNnY sMitH</td>\n",
       "      <td>15</td>\n",
       "      <td>Male</td>\n",
       "      <td>Albuque</td>\n",
       "      <td>A-</td>\n",
       "      <td>PhD</td>\n",
       "      <td>Self-employed</td>\n",
       "      <td>$120,000</td>\n",
       "      <td>Poor</td>\n",
       "      <td>550</td>\n",
       "      <td>Thursday, September 22, 2022</td>\n",
       "    </tr>\n",
       "    <tr>\n",
       "      <th>3</th>\n",
       "      <td>4309</td>\n",
       "      <td>andrEw waTtS</td>\n",
       "      <td>32</td>\n",
       "      <td>F</td>\n",
       "      <td>Albuque</td>\n",
       "      <td>O+</td>\n",
       "      <td>High School</td>\n",
       "      <td>Employed</td>\n",
       "      <td>$45,000</td>\n",
       "      <td>Excellent</td>\n",
       "      <td>800</td>\n",
       "      <td>Wednesday, November 18, 2020</td>\n",
       "    </tr>\n",
       "    <tr>\n",
       "      <th>4</th>\n",
       "      <td>8710</td>\n",
       "      <td>adrIENNE bEll</td>\n",
       "      <td>72</td>\n",
       "      <td>M</td>\n",
       "      <td>Albuque</td>\n",
       "      <td>AB+</td>\n",
       "      <td>Master's</td>\n",
       "      <td>Retired</td>\n",
       "      <td>$50,000</td>\n",
       "      <td>Average</td>\n",
       "      <td>680</td>\n",
       "      <td>Monday, September 19, 2022</td>\n",
       "    </tr>\n",
       "    <tr>\n",
       "      <th>...</th>\n",
       "      <td>...</td>\n",
       "      <td>...</td>\n",
       "      <td>...</td>\n",
       "      <td>...</td>\n",
       "      <td>...</td>\n",
       "      <td>...</td>\n",
       "      <td>...</td>\n",
       "      <td>...</td>\n",
       "      <td>...</td>\n",
       "      <td>...</td>\n",
       "      <td>...</td>\n",
       "      <td>...</td>\n",
       "    </tr>\n",
       "    <tr>\n",
       "      <th>1654</th>\n",
       "      <td>4877</td>\n",
       "      <td>cRaIG cHavEZ</td>\n",
       "      <td>23</td>\n",
       "      <td>NaN</td>\n",
       "      <td>Baltimore</td>\n",
       "      <td>AB-</td>\n",
       "      <td>Associate</td>\n",
       "      <td>Unemployed</td>\n",
       "      <td>$0</td>\n",
       "      <td>Poor</td>\n",
       "      <td>NaN</td>\n",
       "      <td>2020-08-24</td>\n",
       "    </tr>\n",
       "    <tr>\n",
       "      <th>1655</th>\n",
       "      <td>6947</td>\n",
       "      <td>Thomas hoode</td>\n",
       "      <td>32</td>\n",
       "      <td>NaN</td>\n",
       "      <td>Baltimore</td>\n",
       "      <td>NaN</td>\n",
       "      <td>PhD</td>\n",
       "      <td>Employed</td>\n",
       "      <td>$130,000 (Commission)</td>\n",
       "      <td>Good</td>\n",
       "      <td>740</td>\n",
       "      <td>2023-07-17</td>\n",
       "    </tr>\n",
       "    <tr>\n",
       "      <th>1656</th>\n",
       "      <td>8937</td>\n",
       "      <td>ChristINa barber</td>\n",
       "      <td>19</td>\n",
       "      <td>NaN</td>\n",
       "      <td>Baltimore</td>\n",
       "      <td>AB-</td>\n",
       "      <td>Bachelor's</td>\n",
       "      <td>Self-employed (Business Closed)</td>\n",
       "      <td>$0</td>\n",
       "      <td>Poor</td>\n",
       "      <td>450</td>\n",
       "      <td>2021-12-28</td>\n",
       "    </tr>\n",
       "    <tr>\n",
       "      <th>1657</th>\n",
       "      <td>4870</td>\n",
       "      <td>brANDy FrIeDmaN mD</td>\n",
       "      <td>24</td>\n",
       "      <td>NaN</td>\n",
       "      <td>Baltimore</td>\n",
       "      <td>AB-</td>\n",
       "      <td>NaN</td>\n",
       "      <td>Unemployed</td>\n",
       "      <td>$0</td>\n",
       "      <td>Average</td>\n",
       "      <td>400</td>\n",
       "      <td>2023-12-21</td>\n",
       "    </tr>\n",
       "    <tr>\n",
       "      <th>1658</th>\n",
       "      <td>6223</td>\n",
       "      <td>AdAm sMItH</td>\n",
       "      <td>20</td>\n",
       "      <td>NaN</td>\n",
       "      <td>Baltimore</td>\n",
       "      <td>A+</td>\n",
       "      <td>PhD</td>\n",
       "      <td>Employed</td>\n",
       "      <td>$110,000 (Commission)</td>\n",
       "      <td>Good</td>\n",
       "      <td>770</td>\n",
       "      <td>2020-12-23</td>\n",
       "    </tr>\n",
       "  </tbody>\n",
       "</table>\n",
       "<p>1659 rows × 12 columns</p>\n",
       "</div>"
      ],
      "text/plain": [
       "        ID                Name Age Gender         City Blood Type  \\\n",
       "0     6812       Bobby JacksOn  78      M  Albuquerque         B-   \n",
       "1     9043        LesLie TErRy  17      F      Albuque         A+   \n",
       "2     1495         DaNnY sMitH  15   Male      Albuque         A-   \n",
       "3     4309        andrEw waTtS  32      F      Albuque         O+   \n",
       "4     8710       adrIENNE bEll  72      M      Albuque        AB+   \n",
       "...    ...                 ...  ..    ...          ...        ...   \n",
       "1654  4877        cRaIG cHavEZ  23    NaN    Baltimore        AB-   \n",
       "1655  6947        Thomas hoode  32    NaN    Baltimore        NaN   \n",
       "1656  8937    ChristINa barber  19    NaN    Baltimore        AB-   \n",
       "1657  4870  brANDy FrIeDmaN mD  24    NaN    Baltimore        AB-   \n",
       "1658  6223          AdAm sMItH  20    NaN    Baltimore         A+   \n",
       "\n",
       "        Education                Employment Status                 Salary  \\\n",
       "0        Bachelor                         Employed               $80,000    \n",
       "1       Associate                       Unemployed                    $0    \n",
       "2             PhD                    Self-employed              $120,000    \n",
       "3     High School                         Employed               $45,000    \n",
       "4        Master's                          Retired               $50,000    \n",
       "...           ...                              ...                    ...   \n",
       "1654    Associate                       Unemployed                    $0    \n",
       "1655          PhD                         Employed  $130,000 (Commission)   \n",
       "1656   Bachelor's  Self-employed (Business Closed)                    $0    \n",
       "1657          NaN                       Unemployed                    $0    \n",
       "1658          PhD                         Employed  $110,000 (Commission)   \n",
       "\n",
       "     Health Condition Credit Score             Date of Admission  \n",
       "0                Good          720   Wednesday, January 31, 2024  \n",
       "1           Excellent          NaN      Tuesday, August 20, 2019  \n",
       "2                Poor          550  Thursday, September 22, 2022  \n",
       "3           Excellent          800  Wednesday, November 18, 2020  \n",
       "4             Average          680    Monday, September 19, 2022  \n",
       "...               ...          ...                           ...  \n",
       "1654             Poor          NaN                    2020-08-24  \n",
       "1655             Good          740                    2023-07-17  \n",
       "1656             Poor          450                    2021-12-28  \n",
       "1657          Average          400                    2023-12-21  \n",
       "1658             Good          770                    2020-12-23  \n",
       "\n",
       "[1659 rows x 12 columns]"
      ]
     },
     "execution_count": 3,
     "metadata": {},
     "output_type": "execute_result"
    }
   ],
   "source": [
    "healthcare = pd.read_csv(r'healthcare.csv')\n",
    "healthcare"
   ]
  },
  {
   "cell_type": "markdown",
   "id": "33ebb60a-1bf6-4133-9cc5-0a99ea175f09",
   "metadata": {},
   "source": [
    "### Explaratory data analysis to display basic information"
   ]
  },
  {
   "cell_type": "code",
   "execution_count": 4,
   "id": "79a494a3-9558-4f9b-9c96-3ab577707b5d",
   "metadata": {},
   "outputs": [
    {
     "data": {
      "text/html": [
       "<div>\n",
       "<style scoped>\n",
       "    .dataframe tbody tr th:only-of-type {\n",
       "        vertical-align: middle;\n",
       "    }\n",
       "\n",
       "    .dataframe tbody tr th {\n",
       "        vertical-align: top;\n",
       "    }\n",
       "\n",
       "    .dataframe thead th {\n",
       "        text-align: right;\n",
       "    }\n",
       "</style>\n",
       "<table border=\"1\" class=\"dataframe\">\n",
       "  <thead>\n",
       "    <tr style=\"text-align: right;\">\n",
       "      <th></th>\n",
       "      <th>ID</th>\n",
       "      <th>Name</th>\n",
       "      <th>Age</th>\n",
       "      <th>Gender</th>\n",
       "      <th>City</th>\n",
       "      <th>Blood Type</th>\n",
       "      <th>Education</th>\n",
       "      <th>Employment Status</th>\n",
       "      <th>Salary</th>\n",
       "      <th>Health Condition</th>\n",
       "      <th>Credit Score</th>\n",
       "      <th>Date of Admission</th>\n",
       "    </tr>\n",
       "  </thead>\n",
       "  <tbody>\n",
       "    <tr>\n",
       "      <th>0</th>\n",
       "      <td>6812</td>\n",
       "      <td>Bobby JacksOn</td>\n",
       "      <td>78</td>\n",
       "      <td>M</td>\n",
       "      <td>Albuquerque</td>\n",
       "      <td>B-</td>\n",
       "      <td>Bachelor</td>\n",
       "      <td>Employed</td>\n",
       "      <td>$80,000</td>\n",
       "      <td>Good</td>\n",
       "      <td>720</td>\n",
       "      <td>Wednesday, January 31, 2024</td>\n",
       "    </tr>\n",
       "    <tr>\n",
       "      <th>1</th>\n",
       "      <td>9043</td>\n",
       "      <td>LesLie TErRy</td>\n",
       "      <td>17</td>\n",
       "      <td>F</td>\n",
       "      <td>Albuque</td>\n",
       "      <td>A+</td>\n",
       "      <td>Associate</td>\n",
       "      <td>Unemployed</td>\n",
       "      <td>$0</td>\n",
       "      <td>Excellent</td>\n",
       "      <td>NaN</td>\n",
       "      <td>Tuesday, August 20, 2019</td>\n",
       "    </tr>\n",
       "    <tr>\n",
       "      <th>2</th>\n",
       "      <td>1495</td>\n",
       "      <td>DaNnY sMitH</td>\n",
       "      <td>15</td>\n",
       "      <td>Male</td>\n",
       "      <td>Albuque</td>\n",
       "      <td>A-</td>\n",
       "      <td>PhD</td>\n",
       "      <td>Self-employed</td>\n",
       "      <td>$120,000</td>\n",
       "      <td>Poor</td>\n",
       "      <td>550</td>\n",
       "      <td>Thursday, September 22, 2022</td>\n",
       "    </tr>\n",
       "    <tr>\n",
       "      <th>3</th>\n",
       "      <td>4309</td>\n",
       "      <td>andrEw waTtS</td>\n",
       "      <td>32</td>\n",
       "      <td>F</td>\n",
       "      <td>Albuque</td>\n",
       "      <td>O+</td>\n",
       "      <td>High School</td>\n",
       "      <td>Employed</td>\n",
       "      <td>$45,000</td>\n",
       "      <td>Excellent</td>\n",
       "      <td>800</td>\n",
       "      <td>Wednesday, November 18, 2020</td>\n",
       "    </tr>\n",
       "    <tr>\n",
       "      <th>4</th>\n",
       "      <td>8710</td>\n",
       "      <td>adrIENNE bEll</td>\n",
       "      <td>72</td>\n",
       "      <td>M</td>\n",
       "      <td>Albuque</td>\n",
       "      <td>AB+</td>\n",
       "      <td>Master's</td>\n",
       "      <td>Retired</td>\n",
       "      <td>$50,000</td>\n",
       "      <td>Average</td>\n",
       "      <td>680</td>\n",
       "      <td>Monday, September 19, 2022</td>\n",
       "    </tr>\n",
       "  </tbody>\n",
       "</table>\n",
       "</div>"
      ],
      "text/plain": [
       "     ID           Name Age Gender         City Blood Type    Education  \\\n",
       "0  6812  Bobby JacksOn  78      M  Albuquerque         B-     Bachelor   \n",
       "1  9043   LesLie TErRy  17      F      Albuque         A+    Associate   \n",
       "2  1495    DaNnY sMitH  15   Male      Albuque         A-          PhD   \n",
       "3  4309   andrEw waTtS  32      F      Albuque         O+  High School   \n",
       "4  8710  adrIENNE bEll  72      M      Albuque        AB+     Master's   \n",
       "\n",
       "  Employment Status     Salary Health Condition Credit Score  \\\n",
       "0          Employed   $80,000              Good          720   \n",
       "1        Unemployed        $0         Excellent          NaN   \n",
       "2     Self-employed  $120,000              Poor          550   \n",
       "3          Employed   $45,000         Excellent          800   \n",
       "4           Retired   $50,000           Average          680   \n",
       "\n",
       "              Date of Admission  \n",
       "0   Wednesday, January 31, 2024  \n",
       "1      Tuesday, August 20, 2019  \n",
       "2  Thursday, September 22, 2022  \n",
       "3  Wednesday, November 18, 2020  \n",
       "4    Monday, September 19, 2022  "
      ]
     },
     "execution_count": 4,
     "metadata": {},
     "output_type": "execute_result"
    }
   ],
   "source": [
    "healthcare.head()\n"
   ]
  },
  {
   "cell_type": "code",
   "execution_count": 5,
   "id": "e5c0dfc2-b5c5-4a90-9ba3-1d9c4dafb591",
   "metadata": {},
   "outputs": [
    {
     "data": {
      "text/html": [
       "<div>\n",
       "<style scoped>\n",
       "    .dataframe tbody tr th:only-of-type {\n",
       "        vertical-align: middle;\n",
       "    }\n",
       "\n",
       "    .dataframe tbody tr th {\n",
       "        vertical-align: top;\n",
       "    }\n",
       "\n",
       "    .dataframe thead th {\n",
       "        text-align: right;\n",
       "    }\n",
       "</style>\n",
       "<table border=\"1\" class=\"dataframe\">\n",
       "  <thead>\n",
       "    <tr style=\"text-align: right;\">\n",
       "      <th></th>\n",
       "      <th>ID</th>\n",
       "      <th>Name</th>\n",
       "      <th>Age</th>\n",
       "      <th>Gender</th>\n",
       "      <th>City</th>\n",
       "      <th>Blood Type</th>\n",
       "      <th>Education</th>\n",
       "      <th>Employment Status</th>\n",
       "      <th>Salary</th>\n",
       "      <th>Health Condition</th>\n",
       "      <th>Credit Score</th>\n",
       "      <th>Date of Admission</th>\n",
       "    </tr>\n",
       "  </thead>\n",
       "  <tbody>\n",
       "    <tr>\n",
       "      <th>1654</th>\n",
       "      <td>4877</td>\n",
       "      <td>cRaIG cHavEZ</td>\n",
       "      <td>23</td>\n",
       "      <td>NaN</td>\n",
       "      <td>Baltimore</td>\n",
       "      <td>AB-</td>\n",
       "      <td>Associate</td>\n",
       "      <td>Unemployed</td>\n",
       "      <td>$0</td>\n",
       "      <td>Poor</td>\n",
       "      <td>NaN</td>\n",
       "      <td>2020-08-24</td>\n",
       "    </tr>\n",
       "    <tr>\n",
       "      <th>1655</th>\n",
       "      <td>6947</td>\n",
       "      <td>Thomas hoode</td>\n",
       "      <td>32</td>\n",
       "      <td>NaN</td>\n",
       "      <td>Baltimore</td>\n",
       "      <td>NaN</td>\n",
       "      <td>PhD</td>\n",
       "      <td>Employed</td>\n",
       "      <td>$130,000 (Commission)</td>\n",
       "      <td>Good</td>\n",
       "      <td>740</td>\n",
       "      <td>2023-07-17</td>\n",
       "    </tr>\n",
       "    <tr>\n",
       "      <th>1656</th>\n",
       "      <td>8937</td>\n",
       "      <td>ChristINa barber</td>\n",
       "      <td>19</td>\n",
       "      <td>NaN</td>\n",
       "      <td>Baltimore</td>\n",
       "      <td>AB-</td>\n",
       "      <td>Bachelor's</td>\n",
       "      <td>Self-employed (Business Closed)</td>\n",
       "      <td>$0</td>\n",
       "      <td>Poor</td>\n",
       "      <td>450</td>\n",
       "      <td>2021-12-28</td>\n",
       "    </tr>\n",
       "    <tr>\n",
       "      <th>1657</th>\n",
       "      <td>4870</td>\n",
       "      <td>brANDy FrIeDmaN mD</td>\n",
       "      <td>24</td>\n",
       "      <td>NaN</td>\n",
       "      <td>Baltimore</td>\n",
       "      <td>AB-</td>\n",
       "      <td>NaN</td>\n",
       "      <td>Unemployed</td>\n",
       "      <td>$0</td>\n",
       "      <td>Average</td>\n",
       "      <td>400</td>\n",
       "      <td>2023-12-21</td>\n",
       "    </tr>\n",
       "    <tr>\n",
       "      <th>1658</th>\n",
       "      <td>6223</td>\n",
       "      <td>AdAm sMItH</td>\n",
       "      <td>20</td>\n",
       "      <td>NaN</td>\n",
       "      <td>Baltimore</td>\n",
       "      <td>A+</td>\n",
       "      <td>PhD</td>\n",
       "      <td>Employed</td>\n",
       "      <td>$110,000 (Commission)</td>\n",
       "      <td>Good</td>\n",
       "      <td>770</td>\n",
       "      <td>2020-12-23</td>\n",
       "    </tr>\n",
       "  </tbody>\n",
       "</table>\n",
       "</div>"
      ],
      "text/plain": [
       "        ID                Name Age Gender       City Blood Type   Education  \\\n",
       "1654  4877        cRaIG cHavEZ  23    NaN  Baltimore        AB-   Associate   \n",
       "1655  6947        Thomas hoode  32    NaN  Baltimore        NaN         PhD   \n",
       "1656  8937    ChristINa barber  19    NaN  Baltimore        AB-  Bachelor's   \n",
       "1657  4870  brANDy FrIeDmaN mD  24    NaN  Baltimore        AB-         NaN   \n",
       "1658  6223          AdAm sMItH  20    NaN  Baltimore         A+         PhD   \n",
       "\n",
       "                    Employment Status                 Salary Health Condition  \\\n",
       "1654                       Unemployed                    $0              Poor   \n",
       "1655                         Employed  $130,000 (Commission)             Good   \n",
       "1656  Self-employed (Business Closed)                    $0              Poor   \n",
       "1657                       Unemployed                    $0           Average   \n",
       "1658                         Employed  $110,000 (Commission)             Good   \n",
       "\n",
       "     Credit Score Date of Admission  \n",
       "1654          NaN        2020-08-24  \n",
       "1655          740        2023-07-17  \n",
       "1656          450        2021-12-28  \n",
       "1657          400        2023-12-21  \n",
       "1658          770        2020-12-23  "
      ]
     },
     "execution_count": 5,
     "metadata": {},
     "output_type": "execute_result"
    }
   ],
   "source": [
    "healthcare.tail()\n"
   ]
  },
  {
   "cell_type": "code",
   "execution_count": 6,
   "id": "70d46ff1-5abd-4961-ad9e-87fda0479b63",
   "metadata": {},
   "outputs": [
    {
     "name": "stdout",
     "output_type": "stream",
     "text": [
      "<class 'pandas.core.frame.DataFrame'>\n",
      "RangeIndex: 1659 entries, 0 to 1658\n",
      "Data columns (total 12 columns):\n",
      " #   Column             Non-Null Count  Dtype \n",
      "---  ------             --------------  ----- \n",
      " 0   ID                 1659 non-null   int64 \n",
      " 1   Name               1659 non-null   object\n",
      " 2   Age                1659 non-null   object\n",
      " 3   Gender             30 non-null     object\n",
      " 4   City               1659 non-null   object\n",
      " 5   Blood Type         1651 non-null   object\n",
      " 6   Education          1442 non-null   object\n",
      " 7   Employment Status  1659 non-null   object\n",
      " 8   Salary             1659 non-null   object\n",
      " 9   Health Condition   1614 non-null   object\n",
      " 10  Credit Score       1155 non-null   object\n",
      " 11  Date of Admission  1659 non-null   object\n",
      "dtypes: int64(1), object(11)\n",
      "memory usage: 155.7+ KB\n"
     ]
    }
   ],
   "source": [
    "healthcare.info()"
   ]
  },
  {
   "cell_type": "markdown",
   "id": "a43799fe-fefe-4958-b1b1-2c7ba92caca3",
   "metadata": {},
   "source": [
    "### Identifying duplicates and dropping"
   ]
  },
  {
   "cell_type": "code",
   "execution_count": 7,
   "id": "372f16cd-58b1-4471-b98e-73b22273d2b6",
   "metadata": {},
   "outputs": [
    {
     "data": {
      "text/plain": [
       "3"
      ]
     },
     "execution_count": 7,
     "metadata": {},
     "output_type": "execute_result"
    }
   ],
   "source": [
    "healthcare.duplicated().sum()"
   ]
  },
  {
   "cell_type": "code",
   "execution_count": 8,
   "id": "9fa00ae8-8d1f-4181-9e7c-004595b0a381",
   "metadata": {},
   "outputs": [],
   "source": [
    "healthcare = healthcare.drop_duplicates()"
   ]
  },
  {
   "cell_type": "markdown",
   "id": "687e92c1-a4a3-4546-917e-c7c5805be907",
   "metadata": {},
   "source": [
    "### Missing values"
   ]
  },
  {
   "cell_type": "code",
   "execution_count": 9,
   "id": "0f0237e5-6734-4a40-8475-0cbf9e42002e",
   "metadata": {},
   "outputs": [
    {
     "data": {
      "text/plain": [
       "ID                      0\n",
       "Name                    0\n",
       "Age                     0\n",
       "Gender               1626\n",
       "City                    0\n",
       "Blood Type              8\n",
       "Education             216\n",
       "Employment Status       0\n",
       "Salary                  0\n",
       "Health Condition       45\n",
       "Credit Score          504\n",
       "Date of Admission       0\n",
       "dtype: int64"
      ]
     },
     "execution_count": 9,
     "metadata": {},
     "output_type": "execute_result"
    }
   ],
   "source": [
    "healthcare.isnull().sum()"
   ]
  },
  {
   "cell_type": "markdown",
   "id": "a88d26df-0c62-4d7d-84d5-a235cf1b33f0",
   "metadata": {},
   "source": [
    "### Unique values at the base level to identify anomalies"
   ]
  },
  {
   "cell_type": "code",
   "execution_count": 10,
   "id": "981d3499-1173-48f4-82a5-8a6a43bd81fe",
   "metadata": {},
   "outputs": [
    {
     "data": {
      "text/plain": [
       "array(['78', '17', '15', '32', '72', '91', '52', '56', '43', '20',\n",
       "       'Unknown', '46', '16', '54', '22', '49', '25', '47', '88', '27',\n",
       "       '36', '1', '58', '42', '50', '3', '21', '19', '95', '24', '41',\n",
       "       '51', '18', '8', '64', '30', '2', '39', '45', '31', '0', '23',\n",
       "       '28', '35', '26', '40', '94', '33', '57', '55', '29', '53', '66',\n",
       "       '5', '74', '69', '37', '59', '34', '38', '44', '14', '9', '65',\n",
       "       '90', '48', '62', '60', '4', '70', '10', '11', '63', '6', '73',\n",
       "       '75', '68', '101', '13', '77', '92', '71', '82', '61', '12', '84',\n",
       "       '76', '67', '81', '89', '83'], dtype=object)"
      ]
     },
     "execution_count": 10,
     "metadata": {},
     "output_type": "execute_result"
    }
   ],
   "source": [
    "healthcare['Age'].unique()"
   ]
  },
  {
   "cell_type": "code",
   "execution_count": 11,
   "id": "3c0d6d56",
   "metadata": {},
   "outputs": [
    {
     "data": {
      "text/plain": [
       "array(['M', 'F', 'Male', 'Female', nan], dtype=object)"
      ]
     },
     "execution_count": 11,
     "metadata": {},
     "output_type": "execute_result"
    }
   ],
   "source": [
    "healthcare['Gender'].unique()"
   ]
  },
  {
   "cell_type": "code",
   "execution_count": 12,
   "id": "dd1912b7",
   "metadata": {},
   "outputs": [
    {
     "data": {
      "text/plain": [
       "array(['Albuquerque', 'Albuque', 'ALBUQUERQUE', 'Atlanta', 'Atl',\n",
       "       'Baltimore', 'Balti'], dtype=object)"
      ]
     },
     "execution_count": 12,
     "metadata": {},
     "output_type": "execute_result"
    }
   ],
   "source": [
    "healthcare['City'].unique()"
   ]
  },
  {
   "cell_type": "code",
   "execution_count": 13,
   "id": "64453e20",
   "metadata": {},
   "outputs": [
    {
     "data": {
      "text/plain": [
       "array(['B-', 'A+', 'A-', 'O+', 'AB+', 'AB-', 'B+', 'O-', nan],\n",
       "      dtype=object)"
      ]
     },
     "execution_count": 13,
     "metadata": {},
     "output_type": "execute_result"
    }
   ],
   "source": [
    "healthcare['Blood Type'].unique()"
   ]
  },
  {
   "cell_type": "code",
   "execution_count": 14,
   "id": "dde9b6ac",
   "metadata": {},
   "outputs": [
    {
     "data": {
      "text/plain": [
       "array(['Bachelor', 'Associate', 'PhD', 'High School', \"Master's\", nan,\n",
       "       \"Bachelor's\", 'High School (GED)'], dtype=object)"
      ]
     },
     "execution_count": 14,
     "metadata": {},
     "output_type": "execute_result"
    }
   ],
   "source": [
    "healthcare['Education'].unique()"
   ]
  },
  {
   "cell_type": "code",
   "execution_count": 15,
   "id": "1f83049f",
   "metadata": {},
   "outputs": [
    {
     "data": {
      "text/plain": [
       "array(['Employed', 'Unemployed', 'Self-employed', 'Retired', 'Student',\n",
       "       'Freelance', 'Student (Part-time)', 'Retired (Early)',\n",
       "       'Employed (Gig Work)', 'Student (Full-time)',\n",
       "       'Employed (Part-time)', 'Gig Worker', 'Employed (Contract)',\n",
       "       'Self-employed (Business Closed)', 'Student (Internship)'],\n",
       "      dtype=object)"
      ]
     },
     "execution_count": 15,
     "metadata": {},
     "output_type": "execute_result"
    }
   ],
   "source": [
    "healthcare['Employment Status'].unique()"
   ]
  },
  {
   "cell_type": "code",
   "execution_count": 16,
   "id": "83fc99ea",
   "metadata": {},
   "outputs": [
    {
     "data": {
      "text/plain": [
       "array(['Good', 'Excellent', 'Poor', 'Average', nan, 'Excellent (?!)'],\n",
       "      dtype=object)"
      ]
     },
     "execution_count": 16,
     "metadata": {},
     "output_type": "execute_result"
    }
   ],
   "source": [
    "healthcare['Health Condition'].unique()"
   ]
  },
  {
   "cell_type": "code",
   "execution_count": 17,
   "id": "f5639e6b",
   "metadata": {},
   "outputs": [
    {
     "data": {
      "text/plain": [
       "array(['720', nan, '550', '800', '680', '400', '750', '600', '790', '537',\n",
       "       '457', '794', '814', '780', '650', '500', '830', '420', '480',\n",
       "       '580', '810', '700', '690', '620', '820', '710', '520', '770',\n",
       "       '740', '840', '450', '730', '760', '670', '640', '850', '610',\n",
       "       '590', '540', '380 (Typo)', '630', '880', '660'], dtype=object)"
      ]
     },
     "execution_count": 17,
     "metadata": {},
     "output_type": "execute_result"
    }
   ],
   "source": [
    "healthcare['Credit Score'].unique()"
   ]
  },
  {
   "cell_type": "code",
   "execution_count": 18,
   "id": "f50204e6-a8de-4fe2-975f-15c7bfcd8a47",
   "metadata": {},
   "outputs": [
    {
     "data": {
      "text/plain": [
       "ID                   1513\n",
       "Name                 1656\n",
       "Age                    91\n",
       "Gender                  4\n",
       "City                    7\n",
       "Blood Type              8\n",
       "Education               7\n",
       "Employment Status      15\n",
       "Salary                 58\n",
       "Health Condition        5\n",
       "Credit Score           42\n",
       "Date of Admission    1108\n",
       "dtype: int64"
      ]
     },
     "execution_count": 18,
     "metadata": {},
     "output_type": "execute_result"
    }
   ],
   "source": [
    "healthcare.nunique()"
   ]
  },
  {
   "cell_type": "code",
   "execution_count": 19,
   "id": "0943396b-0258-418c-b743-9bbf902fc5bd",
   "metadata": {},
   "outputs": [],
   "source": [
    "# healthcare.select_dtypes(include = 'number')\n",
    "# healthcare.select_dtypes(include = 'object')"
   ]
  },
  {
   "cell_type": "markdown",
   "id": "5e9c7420-ac1e-4450-badf-ff6316d942e9",
   "metadata": {},
   "source": [
    "## Data Overview\n",
    "Total entries: 1659, columns: 12\\\n",
    "Issues Identified: Duplicates, missing values, typos, wrong data types etc."
   ]
  },
  {
   "cell_type": "code",
   "execution_count": 20,
   "id": "6548980b-1b2e-4047-a9ec-461c7dfbf1a3",
   "metadata": {},
   "outputs": [],
   "source": [
    "# healthcare['Name'] = healthcare['Name'].str.title()\n",
    "# Correct way to set title case for names. Although the above line also works\n",
    "healthcare.loc[:, 'Name'] = healthcare['Name'].str.title()"
   ]
  },
  {
   "cell_type": "markdown",
   "id": "0c146ca9-2601-4cfa-bd56-2b434920d791",
   "metadata": {},
   "source": [
    "## Cleaning process\n",
    "### Step 1: Gender Column"
   ]
  },
  {
   "cell_type": "code",
   "execution_count": null,
   "id": "d72657f5-a125-4902-b688-5084646d1253",
   "metadata": {},
   "outputs": [],
   "source": [
    "healthcare['Gender'] = healthcare['Gender'].replace({\n",
    "    'M': 'Male',\n",
    "    'F': 'Female'\n",
    "})\n",
    "\n",
    "healthcare['Gender'].fillna('Unknown', inplace=True)\n",
    "healthcare['Gender'].unique()"
   ]
  },
  {
   "cell_type": "markdown",
   "id": "d6b35c71-87a3-4408-a61c-092454d64aeb",
   "metadata": {},
   "source": [
    "### Step 2: City Column"
   ]
  },
  {
   "cell_type": "code",
   "execution_count": null,
   "id": "9a2cc243-101c-40a9-b910-d0cebf1c470b",
   "metadata": {},
   "outputs": [],
   "source": [
    "healthcare['City'] = healthcare['City'].replace({\n",
    "    'Albuque': 'Albuquerque',\n",
    "    'ALBUQUERQUE': 'Albuquerque',\n",
    "    'Atl': 'Atlanta',\n",
    "    'Balti': 'Baltimore'\n",
    "})\n",
    "\n",
    "healthcare['City'].fillna('Unspecified', inplace=True)\n",
    "healthcare['City'].unique()"
   ]
  },
  {
   "cell_type": "markdown",
   "id": "decee59f-767f-404a-aa73-fe14fc243e9a",
   "metadata": {},
   "source": [
    "### Step 3: Blood Type"
   ]
  },
  {
   "cell_type": "code",
   "execution_count": null,
   "id": "93b2d9b3-48e2-4afb-b3f8-16adf5659ed3",
   "metadata": {},
   "outputs": [],
   "source": [
    "healthcare['Blood Type'].fillna('Unspecified', inplace=True)\n",
    "healthcare['Blood Type'].unique()"
   ]
  },
  {
   "cell_type": "markdown",
   "id": "f10660fa-4256-4553-8d2e-28582afc69bf",
   "metadata": {},
   "source": [
    "### Step 4: Education Column"
   ]
  },
  {
   "cell_type": "code",
   "execution_count": null,
   "id": "d830e1e7-1254-4d57-b7af-8c49652dee4b",
   "metadata": {},
   "outputs": [],
   "source": [
    "healthcare['Education'] = healthcare['Education'].replace({\n",
    "    \"Bachelor's\": 'Bachelor',\n",
    "    \"Master's\": 'Masters',\n",
    "    'High School (GED)': 'High School',\n",
    "})\n",
    "healthcare['Education'].fillna('Unspecified', inplace = True)\n",
    "healthcare['Education'].unique()"
   ]
  },
  {
   "cell_type": "markdown",
   "id": "a9f49f73-94f8-4b52-968b-41555040377f",
   "metadata": {},
   "source": [
    "### Step 5: Employment Status Column"
   ]
  },
  {
   "cell_type": "code",
   "execution_count": null,
   "id": "b7ab203b-4146-4616-84f1-75a893f2d114",
   "metadata": {},
   "outputs": [],
   "source": [
    "# Manual replacing\n",
    "# healthcare['Employment Status'] = healthcare['Employment Status'].replace({\n",
    "#     'Student (Part-time)': 'Student',\n",
    "#     'Employed (Gig Work)': 'Employed',\n",
    "#     'Retired (Early)': 'Retired',\n",
    "#     'Student (Full-time)': 'Student',\n",
    "#     'Employed (Part-time)': 'Employed',\n",
    "#     'Employed (Contract)': 'Employed',\n",
    "#     'Self-employed (Business Closed)': 'Self-employed',\n",
    "#     'Student (Internship)': 'Student'\n",
    "# })\n",
    "\n",
    "# Automatic Replacing, Split the column using space attribute then drop the new column, rename any affected entry!!\n",
    "healthcare[['Employment Status', 'employment status type']] = healthcare['Employment Status'].str.split(n=1, expand=True)\n",
    "healthcare['Employment Status'] = healthcare['Employment Status'].replace({'Gig': 'Gig Worker'})\n",
    "healthcare = healthcare.drop(columns ='employment status type')\n",
    "healthcare['Employment Status'].unique()"
   ]
  },
  {
   "cell_type": "markdown",
   "id": "f9dd670b-e72d-41c2-b35b-76740208af5b",
   "metadata": {},
   "source": [
    "### Step 6: Health Condition Column"
   ]
  },
  {
   "cell_type": "code",
   "execution_count": null,
   "id": "da5e1aaf-bff8-45e8-97b5-e723df1d7a7a",
   "metadata": {},
   "outputs": [],
   "source": [
    "healthcare['Health Condition'] = healthcare['Health Condition'].str.strip(\"(?!) \")\n",
    "healthcare['Health Condition'].fillna('Unspecified', inplace=True)\n",
    "healthcare['Health Condition'].unique()"
   ]
  },
  {
   "cell_type": "markdown",
   "id": "2a6fa561-ea55-4db9-a450-2d6e3dbf289e",
   "metadata": {},
   "source": [
    "### Step 8: Credit Score"
   ]
  },
  {
   "cell_type": "code",
   "execution_count": 27,
   "id": "5d9f5a1d-707b-49a2-b203-0304362a769f",
   "metadata": {},
   "outputs": [
    {
     "data": {
      "text/plain": [
       "array([720, 472, 550, 800, 680, 400, 750, 600, 790, 537, 457, 794, 814,\n",
       "       780, 650, 500, 830, 420, 480, 580, 810, 700, 690, 620, 820, 710,\n",
       "       520, 770, 740, 840, 450, 730, 760, 670, 640, 850, 610, 590, 540,\n",
       "       380, 630, 880, 660])"
      ]
     },
     "execution_count": 27,
     "metadata": {},
     "output_type": "execute_result"
    }
   ],
   "source": [
    "# I had to replace 'None' with '0' then after finding the 'mean' i rewrote the code to replace 'None' with the the 'Mean'!!\n",
    "healthcare['Credit Score'] = healthcare['Credit Score'].replace({\n",
    "    'None': None,\n",
    "    '380 (Typo)': '380',\n",
    "    None: '472'\n",
    "}).astype(int)\n",
    "healthcare['Credit Score'].unique()\n",
    "\n",
    "# healthcare['Credit Score'].fillna('0', inplace = True)\n",
    "# healthcare['Credit Score'] = pd.to_numeric(healthcare['Credit Score'], errors='coerce')\n",
    "# healthcare['Credit Score'] = healthcare['Credit Score'].astype(int)"
   ]
  },
  {
   "cell_type": "markdown",
   "id": "cf721328-734d-48c6-ab9d-25f4298fd202",
   "metadata": {},
   "source": [
    "### Step 8: Age"
   ]
  },
  {
   "cell_type": "code",
   "execution_count": 28,
   "id": "4bd7ee9f-a189-46eb-a1af-fbcedea677d0",
   "metadata": {},
   "outputs": [
    {
     "data": {
      "text/plain": [
       "array([ 78,  17,  15,  32,  72,  91,  52,  56,  43,  20,  46,  16,  54,\n",
       "        22,  49,  25,  47,  88,  27,  36,   1,  58,  42,  50,   3,  21,\n",
       "        19,  95,  24,  41,  51,  18,   8,  64,  30,   2,  39,  45,  31,\n",
       "         0,  23,  28,  35,  26,  40,  94,  33,  57,  55,  29,  53,  66,\n",
       "         5,  74,  69,  37,  59,  34,  38,  44,  14,   9,  65,  90,  48,\n",
       "        62,  60,   4,  70,  10,  11,  63,   6,  73,  75,  68, 101,  13,\n",
       "        77,  92,  71,  82,  61,  12,  84,  76,  67,  81,  89,  83])"
      ]
     },
     "execution_count": 28,
     "metadata": {},
     "output_type": "execute_result"
    }
   ],
   "source": [
    "# Replace 'Unknown' with '0', identify mean as 32 from [describe()] the replace the 32\n",
    "healthcare['Age'] = healthcare['Age'].replace({'Unknown': '32'}).astype(int)\n",
    "healthcare['Age'].unique()"
   ]
  },
  {
   "cell_type": "markdown",
   "id": "29b69569-fdc6-4a3d-81a4-4af08a9cb5ae",
   "metadata": {},
   "source": [
    "### Step 9: Salary"
   ]
  },
  {
   "cell_type": "code",
   "execution_count": 29,
   "id": "25ad65b3-d93c-461f-b2bb-4c1c63402539",
   "metadata": {},
   "outputs": [],
   "source": [
    "healthcare[[\"Salary\", \"Salary Type\"]] = healthcare['Salary'].str.split(n=1, expand=True)\n",
    "healthcare = healthcare.drop(columns = 'Salary Type')"
   ]
  },
  {
   "cell_type": "code",
   "execution_count": 30,
   "id": "1061a8c7-9b76-45b1-a9b6-cd68622b6bc2",
   "metadata": {},
   "outputs": [
    {
     "data": {
      "text/plain": [
       "array([ 80000,      0, 120000,  45000,  50000,  43664,  65000,  30000,\n",
       "       100000, 135068,  50975, 102073,  25000,  15000,  35000, 150000,\n",
       "       110000,  48000,  40000,  60000,  75000,  20000,  55000, 130000,\n",
       "        28000,  90000, 140000,  32000,  70000,  42000,  18000,  85000,\n",
       "        38000,  95000,  22000,  12000])"
      ]
     },
     "execution_count": 30,
     "metadata": {},
     "output_type": "execute_result"
    }
   ],
   "source": [
    "healthcare['Salary'] = healthcare['Salary'].str.strip(\"$()\")\n",
    "healthcare['Salary'] = healthcare['Salary'].replace({'Missing': '43664'})\n",
    "healthcare['Salary'] = pd.to_numeric(healthcare['Salary'].str.replace(',', ''), errors='coerce')\n",
    "healthcare['Salary'] = healthcare['Salary'].astype(int)\n",
    "healthcare['Salary'].unique()"
   ]
  },
  {
   "cell_type": "code",
   "execution_count": 31,
   "id": "5ec2773f-e71c-4471-abd6-4583e49f75c6",
   "metadata": {},
   "outputs": [],
   "source": [
    "# healthcare['Salary'].value_counts().sort_values()"
   ]
  },
  {
   "cell_type": "markdown",
   "id": "eb7b042a-4d1b-4f80-9513-e56e99852276",
   "metadata": {},
   "source": [
    "### Step 7: Date of Admission"
   ]
  },
  {
   "cell_type": "code",
   "execution_count": 32,
   "id": "be98ee80-8718-448f-8277-4e336255da5e",
   "metadata": {},
   "outputs": [],
   "source": [
    "# Date class\n",
    "from datetime import datetime\n",
    "# Function to clean and format dates: a function named clean_date is defined that takes a single parameter, date_str, which is expected to be a string representing a date\n",
    "def clean_date(date_str):\n",
    "    try:\n",
    "        # Try parsing with the first format\n",
    "        return datetime.strptime(date_str, '%A, %B %d, %Y').strftime('%Y-%m-%d')\n",
    "    except ValueError:\n",
    "        try:\n",
    "            # Try parsing with the second format \"YYYY-MM-DD\"\n",
    "            return datetime.strptime(date_str, '%Y-%m-%d').strftime('%Y-%m-%d')\n",
    "        except ValueError:\n",
    "            return None\n",
    "\n",
    "healthcare['Date of Admission'] = healthcare['Date of Admission'].apply(clean_date)"
   ]
  },
  {
   "cell_type": "code",
   "execution_count": 33,
   "id": "938988b7-5d9d-47bb-9f59-96db618866e9",
   "metadata": {},
   "outputs": [],
   "source": [
    "# Convert column to datetime then extract year, month, year\n",
    "healthcare['Date of Admission'] = pd.to_datetime(healthcare['Date of Admission'])\n",
    "healthcare['Year'] = healthcare['Date of Admission'].dt.year\n",
    "healthcare['Month'] = healthcare['Date of Admission'].dt.month\n",
    "healthcare['Day'] = healthcare['Date of Admission'].dt.day"
   ]
  },
  {
   "cell_type": "code",
   "execution_count": 34,
   "id": "97bfe307-f265-4db1-845e-100f55e71f2d",
   "metadata": {},
   "outputs": [],
   "source": [
    "# If you wanna change the YYYYMMDD columns to int columns\n",
    "# healthcare['Day'].fillna('0', inplace = True)\n",
    "# healthcare['Day']=healthcare['Day'].astype(int)"
   ]
  },
  {
   "cell_type": "code",
   "execution_count": 35,
   "id": "80bf66bc-4147-4950-b4c1-25b4a0d8d779",
   "metadata": {},
   "outputs": [],
   "source": [
    "# Drop useless column\n",
    "healthcare = healthcare.drop(columns = 'Gender')"
   ]
  },
  {
   "cell_type": "code",
   "execution_count": 36,
   "id": "4915583a-08b4-46b9-a63e-2ee9ba6bc360",
   "metadata": {},
   "outputs": [
    {
     "name": "stdout",
     "output_type": "stream",
     "text": [
      "<class 'pandas.core.frame.DataFrame'>\n",
      "Index: 1656 entries, 0 to 1655\n",
      "Data columns (total 14 columns):\n",
      " #   Column             Non-Null Count  Dtype         \n",
      "---  ------             --------------  -----         \n",
      " 0   ID                 1656 non-null   int64         \n",
      " 1   Name               1656 non-null   object        \n",
      " 2   Age                1656 non-null   int32         \n",
      " 3   City               1656 non-null   object        \n",
      " 4   Blood Type         1656 non-null   object        \n",
      " 5   Education          1656 non-null   object        \n",
      " 6   Employment Status  1656 non-null   object        \n",
      " 7   Salary             1656 non-null   int32         \n",
      " 8   Health Condition   1656 non-null   object        \n",
      " 9   Credit Score       1656 non-null   int32         \n",
      " 10  Date of Admission  1641 non-null   datetime64[ns]\n",
      " 11  Year               1641 non-null   float64       \n",
      " 12  Month              1641 non-null   float64       \n",
      " 13  Day                1641 non-null   float64       \n",
      "dtypes: datetime64[ns](1), float64(3), int32(3), int64(1), object(6)\n",
      "memory usage: 174.7+ KB\n"
     ]
    }
   ],
   "source": [
    "# All columns in correct datatypes\n",
    "healthcare.info()"
   ]
  },
  {
   "cell_type": "code",
   "execution_count": 37,
   "id": "af86438f-316c-483a-8d2d-06aaa63b3d3f",
   "metadata": {},
   "outputs": [
    {
     "data": {
      "text/html": [
       "<div>\n",
       "<style scoped>\n",
       "    .dataframe tbody tr th:only-of-type {\n",
       "        vertical-align: middle;\n",
       "    }\n",
       "\n",
       "    .dataframe tbody tr th {\n",
       "        vertical-align: top;\n",
       "    }\n",
       "\n",
       "    .dataframe thead th {\n",
       "        text-align: right;\n",
       "    }\n",
       "</style>\n",
       "<table border=\"1\" class=\"dataframe\">\n",
       "  <thead>\n",
       "    <tr style=\"text-align: right;\">\n",
       "      <th></th>\n",
       "      <th>ID</th>\n",
       "      <th>Age</th>\n",
       "      <th>Salary</th>\n",
       "      <th>Credit Score</th>\n",
       "      <th>Date of Admission</th>\n",
       "      <th>Year</th>\n",
       "      <th>Month</th>\n",
       "      <th>Day</th>\n",
       "    </tr>\n",
       "  </thead>\n",
       "  <tbody>\n",
       "    <tr>\n",
       "      <th>count</th>\n",
       "      <td>1656.000000</td>\n",
       "      <td>1656.000000</td>\n",
       "      <td>1656.000000</td>\n",
       "      <td>1656.000000</td>\n",
       "      <td>1641</td>\n",
       "      <td>1641.000000</td>\n",
       "      <td>1641.000000</td>\n",
       "      <td>1641.000000</td>\n",
       "    </tr>\n",
       "    <tr>\n",
       "      <th>mean</th>\n",
       "      <td>5535.731280</td>\n",
       "      <td>32.942633</td>\n",
       "      <td>43900.978261</td>\n",
       "      <td>615.891304</td>\n",
       "      <td>2021-10-12 01:37:24.241316352</td>\n",
       "      <td>2021.285801</td>\n",
       "      <td>6.456429</td>\n",
       "      <td>15.720902</td>\n",
       "    </tr>\n",
       "    <tr>\n",
       "      <th>min</th>\n",
       "      <td>1010.000000</td>\n",
       "      <td>0.000000</td>\n",
       "      <td>0.000000</td>\n",
       "      <td>380.000000</td>\n",
       "      <td>2019-05-09 00:00:00</td>\n",
       "      <td>2019.000000</td>\n",
       "      <td>1.000000</td>\n",
       "      <td>1.000000</td>\n",
       "    </tr>\n",
       "    <tr>\n",
       "      <th>25%</th>\n",
       "      <td>3241.750000</td>\n",
       "      <td>23.000000</td>\n",
       "      <td>0.000000</td>\n",
       "      <td>472.000000</td>\n",
       "      <td>2020-06-20 00:00:00</td>\n",
       "      <td>2020.000000</td>\n",
       "      <td>3.000000</td>\n",
       "      <td>8.000000</td>\n",
       "    </tr>\n",
       "    <tr>\n",
       "      <th>50%</th>\n",
       "      <td>5545.000000</td>\n",
       "      <td>30.000000</td>\n",
       "      <td>36500.000000</td>\n",
       "      <td>630.000000</td>\n",
       "      <td>2021-09-25 00:00:00</td>\n",
       "      <td>2021.000000</td>\n",
       "      <td>7.000000</td>\n",
       "      <td>16.000000</td>\n",
       "    </tr>\n",
       "    <tr>\n",
       "      <th>75%</th>\n",
       "      <td>7705.250000</td>\n",
       "      <td>41.000000</td>\n",
       "      <td>80000.000000</td>\n",
       "      <td>742.500000</td>\n",
       "      <td>2023-01-15 00:00:00</td>\n",
       "      <td>2023.000000</td>\n",
       "      <td>9.000000</td>\n",
       "      <td>23.000000</td>\n",
       "    </tr>\n",
       "    <tr>\n",
       "      <th>max</th>\n",
       "      <td>9999.000000</td>\n",
       "      <td>101.000000</td>\n",
       "      <td>150000.000000</td>\n",
       "      <td>880.000000</td>\n",
       "      <td>2024-05-05 00:00:00</td>\n",
       "      <td>2024.000000</td>\n",
       "      <td>12.000000</td>\n",
       "      <td>31.000000</td>\n",
       "    </tr>\n",
       "    <tr>\n",
       "      <th>std</th>\n",
       "      <td>2609.672281</td>\n",
       "      <td>14.588154</td>\n",
       "      <td>44706.341728</td>\n",
       "      <td>140.522741</td>\n",
       "      <td>NaN</td>\n",
       "      <td>1.513548</td>\n",
       "      <td>3.464729</td>\n",
       "      <td>8.702683</td>\n",
       "    </tr>\n",
       "  </tbody>\n",
       "</table>\n",
       "</div>"
      ],
      "text/plain": [
       "                ID          Age         Salary  Credit Score  \\\n",
       "count  1656.000000  1656.000000    1656.000000   1656.000000   \n",
       "mean   5535.731280    32.942633   43900.978261    615.891304   \n",
       "min    1010.000000     0.000000       0.000000    380.000000   \n",
       "25%    3241.750000    23.000000       0.000000    472.000000   \n",
       "50%    5545.000000    30.000000   36500.000000    630.000000   \n",
       "75%    7705.250000    41.000000   80000.000000    742.500000   \n",
       "max    9999.000000   101.000000  150000.000000    880.000000   \n",
       "std    2609.672281    14.588154   44706.341728    140.522741   \n",
       "\n",
       "                   Date of Admission         Year        Month          Day  \n",
       "count                           1641  1641.000000  1641.000000  1641.000000  \n",
       "mean   2021-10-12 01:37:24.241316352  2021.285801     6.456429    15.720902  \n",
       "min              2019-05-09 00:00:00  2019.000000     1.000000     1.000000  \n",
       "25%              2020-06-20 00:00:00  2020.000000     3.000000     8.000000  \n",
       "50%              2021-09-25 00:00:00  2021.000000     7.000000    16.000000  \n",
       "75%              2023-01-15 00:00:00  2023.000000     9.000000    23.000000  \n",
       "max              2024-05-05 00:00:00  2024.000000    12.000000    31.000000  \n",
       "std                              NaN     1.513548     3.464729     8.702683  "
      ]
     },
     "execution_count": 37,
     "metadata": {},
     "output_type": "execute_result"
    }
   ],
   "source": [
    "# sns.heatmap(healthcare.describe().corr(), annot = True)\n",
    "# plt.rcParams['figure.figsize']=(4, 4)\n",
    "# plt.show()\n",
    "healthcare.describe()"
   ]
  },
  {
   "cell_type": "code",
   "execution_count": 38,
   "id": "79cb0deb-bb68-4582-838d-98370c0fcea8",
   "metadata": {},
   "outputs": [
    {
     "data": {
      "text/html": [
       "<div>\n",
       "<style scoped>\n",
       "    .dataframe tbody tr th:only-of-type {\n",
       "        vertical-align: middle;\n",
       "    }\n",
       "\n",
       "    .dataframe tbody tr th {\n",
       "        vertical-align: top;\n",
       "    }\n",
       "\n",
       "    .dataframe thead th {\n",
       "        text-align: right;\n",
       "    }\n",
       "</style>\n",
       "<table border=\"1\" class=\"dataframe\">\n",
       "  <thead>\n",
       "    <tr style=\"text-align: right;\">\n",
       "      <th></th>\n",
       "      <th>ID</th>\n",
       "      <th>Name</th>\n",
       "      <th>Age</th>\n",
       "      <th>City</th>\n",
       "      <th>Blood Type</th>\n",
       "      <th>Education</th>\n",
       "      <th>Employment Status</th>\n",
       "      <th>Salary</th>\n",
       "      <th>Health Condition</th>\n",
       "      <th>Credit Score</th>\n",
       "      <th>Date of Admission</th>\n",
       "      <th>Year</th>\n",
       "      <th>Month</th>\n",
       "      <th>Day</th>\n",
       "    </tr>\n",
       "  </thead>\n",
       "  <tbody>\n",
       "    <tr>\n",
       "      <th>0</th>\n",
       "      <td>6812</td>\n",
       "      <td>Bobby Jackson</td>\n",
       "      <td>78</td>\n",
       "      <td>Albuquerque</td>\n",
       "      <td>B-</td>\n",
       "      <td>Bachelor</td>\n",
       "      <td>Employed</td>\n",
       "      <td>80000</td>\n",
       "      <td>Good</td>\n",
       "      <td>720</td>\n",
       "      <td>2024-01-31</td>\n",
       "      <td>2024</td>\n",
       "      <td>1</td>\n",
       "      <td>31</td>\n",
       "    </tr>\n",
       "    <tr>\n",
       "      <th>1</th>\n",
       "      <td>9043</td>\n",
       "      <td>Leslie Terry</td>\n",
       "      <td>17</td>\n",
       "      <td>Albuquerque</td>\n",
       "      <td>A+</td>\n",
       "      <td>Associate</td>\n",
       "      <td>Unemployed</td>\n",
       "      <td>0</td>\n",
       "      <td>Excellent</td>\n",
       "      <td>472</td>\n",
       "      <td>2019-08-20</td>\n",
       "      <td>2019</td>\n",
       "      <td>8</td>\n",
       "      <td>20</td>\n",
       "    </tr>\n",
       "    <tr>\n",
       "      <th>2</th>\n",
       "      <td>1495</td>\n",
       "      <td>Danny Smith</td>\n",
       "      <td>15</td>\n",
       "      <td>Albuquerque</td>\n",
       "      <td>A-</td>\n",
       "      <td>PhD</td>\n",
       "      <td>Self-employed</td>\n",
       "      <td>120000</td>\n",
       "      <td>Poor</td>\n",
       "      <td>550</td>\n",
       "      <td>2022-09-22</td>\n",
       "      <td>2022</td>\n",
       "      <td>9</td>\n",
       "      <td>22</td>\n",
       "    </tr>\n",
       "    <tr>\n",
       "      <th>3</th>\n",
       "      <td>4309</td>\n",
       "      <td>Andrew Watts</td>\n",
       "      <td>32</td>\n",
       "      <td>Albuquerque</td>\n",
       "      <td>O+</td>\n",
       "      <td>High School</td>\n",
       "      <td>Employed</td>\n",
       "      <td>45000</td>\n",
       "      <td>Excellent</td>\n",
       "      <td>800</td>\n",
       "      <td>2020-11-18</td>\n",
       "      <td>2020</td>\n",
       "      <td>11</td>\n",
       "      <td>18</td>\n",
       "    </tr>\n",
       "    <tr>\n",
       "      <th>4</th>\n",
       "      <td>8710</td>\n",
       "      <td>Adrienne Bell</td>\n",
       "      <td>72</td>\n",
       "      <td>Albuquerque</td>\n",
       "      <td>AB+</td>\n",
       "      <td>Masters</td>\n",
       "      <td>Retired</td>\n",
       "      <td>50000</td>\n",
       "      <td>Average</td>\n",
       "      <td>680</td>\n",
       "      <td>2022-09-19</td>\n",
       "      <td>2022</td>\n",
       "      <td>9</td>\n",
       "      <td>19</td>\n",
       "    </tr>\n",
       "    <tr>\n",
       "      <th>...</th>\n",
       "      <td>...</td>\n",
       "      <td>...</td>\n",
       "      <td>...</td>\n",
       "      <td>...</td>\n",
       "      <td>...</td>\n",
       "      <td>...</td>\n",
       "      <td>...</td>\n",
       "      <td>...</td>\n",
       "      <td>...</td>\n",
       "      <td>...</td>\n",
       "      <td>...</td>\n",
       "      <td>...</td>\n",
       "      <td>...</td>\n",
       "      <td>...</td>\n",
       "    </tr>\n",
       "    <tr>\n",
       "      <th>1651</th>\n",
       "      <td>3180</td>\n",
       "      <td>Jonathan Miller</td>\n",
       "      <td>20</td>\n",
       "      <td>Baltimore</td>\n",
       "      <td>B+</td>\n",
       "      <td>High School</td>\n",
       "      <td>Employed</td>\n",
       "      <td>60000</td>\n",
       "      <td>Excellent</td>\n",
       "      <td>810</td>\n",
       "      <td>2023-07-17</td>\n",
       "      <td>2023</td>\n",
       "      <td>7</td>\n",
       "      <td>17</td>\n",
       "    </tr>\n",
       "    <tr>\n",
       "      <th>1652</th>\n",
       "      <td>1933</td>\n",
       "      <td>Noah Moon</td>\n",
       "      <td>48</td>\n",
       "      <td>Baltimore</td>\n",
       "      <td>O+</td>\n",
       "      <td>Bachelor</td>\n",
       "      <td>Student</td>\n",
       "      <td>0</td>\n",
       "      <td>Good</td>\n",
       "      <td>472</td>\n",
       "      <td>2020-10-17</td>\n",
       "      <td>2020</td>\n",
       "      <td>10</td>\n",
       "      <td>17</td>\n",
       "    </tr>\n",
       "    <tr>\n",
       "      <th>1653</th>\n",
       "      <td>9661</td>\n",
       "      <td>Jose Anderson</td>\n",
       "      <td>23</td>\n",
       "      <td>Baltimore</td>\n",
       "      <td>O-</td>\n",
       "      <td>Unspecified</td>\n",
       "      <td>Self-employed</td>\n",
       "      <td>120000</td>\n",
       "      <td>Average</td>\n",
       "      <td>660</td>\n",
       "      <td>2023-11-19</td>\n",
       "      <td>2023</td>\n",
       "      <td>11</td>\n",
       "      <td>19</td>\n",
       "    </tr>\n",
       "    <tr>\n",
       "      <th>1654</th>\n",
       "      <td>4877</td>\n",
       "      <td>Craig Chavez</td>\n",
       "      <td>23</td>\n",
       "      <td>Baltimore</td>\n",
       "      <td>AB-</td>\n",
       "      <td>Associate</td>\n",
       "      <td>Unemployed</td>\n",
       "      <td>0</td>\n",
       "      <td>Poor</td>\n",
       "      <td>472</td>\n",
       "      <td>2020-08-24</td>\n",
       "      <td>2020</td>\n",
       "      <td>8</td>\n",
       "      <td>24</td>\n",
       "    </tr>\n",
       "    <tr>\n",
       "      <th>1655</th>\n",
       "      <td>6947</td>\n",
       "      <td>Thomas Hoode</td>\n",
       "      <td>32</td>\n",
       "      <td>Baltimore</td>\n",
       "      <td>Unspecified</td>\n",
       "      <td>PhD</td>\n",
       "      <td>Employed</td>\n",
       "      <td>130000</td>\n",
       "      <td>Good</td>\n",
       "      <td>740</td>\n",
       "      <td>2023-07-17</td>\n",
       "      <td>2023</td>\n",
       "      <td>7</td>\n",
       "      <td>17</td>\n",
       "    </tr>\n",
       "  </tbody>\n",
       "</table>\n",
       "<p>1656 rows × 14 columns</p>\n",
       "</div>"
      ],
      "text/plain": [
       "        ID             Name  Age         City   Blood Type    Education  \\\n",
       "0     6812    Bobby Jackson   78  Albuquerque           B-     Bachelor   \n",
       "1     9043     Leslie Terry   17  Albuquerque           A+    Associate   \n",
       "2     1495      Danny Smith   15  Albuquerque           A-          PhD   \n",
       "3     4309     Andrew Watts   32  Albuquerque           O+  High School   \n",
       "4     8710    Adrienne Bell   72  Albuquerque          AB+      Masters   \n",
       "...    ...              ...  ...          ...          ...          ...   \n",
       "1651  3180  Jonathan Miller   20    Baltimore           B+  High School   \n",
       "1652  1933        Noah Moon   48    Baltimore           O+     Bachelor   \n",
       "1653  9661    Jose Anderson   23    Baltimore           O-  Unspecified   \n",
       "1654  4877     Craig Chavez   23    Baltimore          AB-    Associate   \n",
       "1655  6947     Thomas Hoode   32    Baltimore  Unspecified          PhD   \n",
       "\n",
       "     Employment Status  Salary Health Condition  Credit Score  \\\n",
       "0             Employed   80000             Good           720   \n",
       "1           Unemployed       0        Excellent           472   \n",
       "2        Self-employed  120000             Poor           550   \n",
       "3             Employed   45000        Excellent           800   \n",
       "4              Retired   50000          Average           680   \n",
       "...                ...     ...              ...           ...   \n",
       "1651          Employed   60000        Excellent           810   \n",
       "1652           Student       0             Good           472   \n",
       "1653     Self-employed  120000          Average           660   \n",
       "1654        Unemployed       0             Poor           472   \n",
       "1655          Employed  130000             Good           740   \n",
       "\n",
       "     Date of Admission  Year  Month  Day  \n",
       "0           2024-01-31  2024      1   31  \n",
       "1           2019-08-20  2019      8   20  \n",
       "2           2022-09-22  2022      9   22  \n",
       "3           2020-11-18  2020     11   18  \n",
       "4           2022-09-19  2022      9   19  \n",
       "...                ...   ...    ...  ...  \n",
       "1651        2023-07-17  2023      7   17  \n",
       "1652        2020-10-17  2020     10   17  \n",
       "1653        2023-11-19  2023     11   19  \n",
       "1654        2020-08-24  2020      8   24  \n",
       "1655        2023-07-17  2023      7   17  \n",
       "\n",
       "[1656 rows x 14 columns]"
      ]
     },
     "execution_count": 38,
     "metadata": {},
     "output_type": "execute_result"
    }
   ],
   "source": [
    "# Removing decimal points from floats\n",
    "pd.set_option('display.float_format', lambda x: '%.f' % x)\n",
    "healthcare"
   ]
  },
  {
   "cell_type": "code",
   "execution_count": 39,
   "id": "1bc15db8-311f-48d1-9dfa-1add7096fa35",
   "metadata": {},
   "outputs": [],
   "source": [
    "healthcare.to_csv(\"cleaned_healthcare_dataset.csv\", index=False)"
   ]
  },
  {
   "cell_type": "code",
   "execution_count": null,
   "id": "1ef73d3b-09de-4dc1-9ef3-43aa37c327a0",
   "metadata": {},
   "outputs": [],
   "source": []
  }
 ],
 "metadata": {
  "kernelspec": {
   "display_name": "Python 3 (ipykernel)",
   "language": "python",
   "name": "python3"
  },
  "language_info": {
   "codemirror_mode": {
    "name": "ipython",
    "version": 3
   },
   "file_extension": ".py",
   "mimetype": "text/x-python",
   "name": "python",
   "nbconvert_exporter": "python",
   "pygments_lexer": "ipython3",
   "version": "3.12.4"
  }
 },
 "nbformat": 4,
 "nbformat_minor": 5
}
